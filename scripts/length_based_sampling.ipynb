{
 "cells": [
  {
   "cell_type": "markdown",
   "metadata": {},
   "source": [
    "Let's create a sample of words based on their length, using lengths from the \"My Sidewalks\" program."
   ]
  },
  {
   "cell_type": "code",
   "execution_count": 24,
   "metadata": {},
   "outputs": [],
   "source": [
    "import pandas as pd\n",
    "import nltk\n",
    "import random\n",
    "from datetime import datetime\n",
    "formatted_date=datetime.today().strftime(\"%m%d%y\")\n",
    "\n",
    "random.seed(347)\n",
    "\n",
    "cmu = nltk.corpus.cmudict.dict()\n",
    "\n",
    "my_sidewalks = pd.read_csv('../programs/my_sidewalks.csv')['word_raw'].tolist()\n",
    "my_sidewalks = [str(word).lower() for word in my_sidewalks]\n",
    "my_sidewalks = [word for word in my_sidewalks if word.isalpha()]\n",
    "my_sidewalks = [word for word in my_sidewalks if word in cmu.keys()]"
   ]
  },
  {
   "cell_type": "code",
   "execution_count": 25,
   "metadata": {},
   "outputs": [],
   "source": [
    "max_phonemes = max([len(phon) for orth, phon in cmu.items() if orth in my_sidewalks])\n",
    "max_letters = max([len(orth) for orth, phon in cmu.items() if orth in my_sidewalks])"
   ]
  },
  {
   "cell_type": "code",
   "execution_count": 26,
   "metadata": {},
   "outputs": [],
   "source": [
    "pool = [word for word in cmu.keys() if len(word) <= max_letters & len(cmu[word][0]) < max_phonemes]"
   ]
  },
  {
   "cell_type": "code",
   "execution_count": 27,
   "metadata": {},
   "outputs": [],
   "source": [
    "#10140\n",
    "rows = 10140\n",
    "sample = random.choices(pool, k=rows)\n",
    "\n",
    "file_name='random_length_matched_'+str(rows)+'_'+formatted_date+'.csv'\n",
    "\n",
    "with open(file_name, 'w') as f:\n",
    "    for word in sample:\n",
    "        f.write('{}\\n'.format(word))\n",
    "f.close()"
   ]
  }
 ],
 "metadata": {
  "kernelspec": {
   "display_name": "Python 3",
   "language": "python",
   "name": "python3"
  },
  "language_info": {
   "codemirror_mode": {
    "name": "ipython",
    "version": 3
   },
   "file_extension": ".py",
   "mimetype": "text/x-python",
   "name": "python",
   "nbconvert_exporter": "python",
   "pygments_lexer": "ipython3",
   "version": "3.11.4"
  }
 },
 "nbformat": 4,
 "nbformat_minor": 2
}
