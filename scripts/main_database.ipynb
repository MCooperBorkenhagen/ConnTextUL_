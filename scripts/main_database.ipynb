{
 "cells": [
  {
   "cell_type": "code",
   "execution_count": 33,
   "id": "11d34e87",
   "metadata": {
    "scrolled": true
   },
   "outputs": [
    {
     "name": "stdout",
     "output_type": "stream",
     "text": [
      "<class 'pandas.core.frame.DataFrame'>\n",
      "RangeIndex: 153645 entries, 0 to 153644\n",
      "Data columns (total 4 columns):\n",
      " #   Column        Non-Null Count   Dtype \n",
      "---  ------        --------------   ----- \n",
      " 0   word_raw      153645 non-null  object\n",
      " 1   file_name     153645 non-null  object\n",
      " 2   program_name  153645 non-null  object\n",
      " 3   program_type  153645 non-null  object\n",
      "dtypes: object(4)\n",
      "memory usage: 4.7+ MB\n",
      "None\n"
     ]
    }
   ],
   "source": [
    "import os\n",
    "import pandas as pd\n",
    "import chardet\n",
    "\n",
    "# Define the base directory path\n",
    "base_directory = r\"C:\\Users\\razza\\ConnTextUL\\Programs\"\n",
    "\n",
    "# Create an empty list to store data\n",
    "data = []\n",
    "\n",
    "# Function to clean words\n",
    "def clean_word(word):\n",
    "    special_chars = \"~!@#$%^&*(),./<>?;:\\\"[]{}\\\\|`=_+\"\n",
    "    return word.strip(special_chars)\n",
    "\n",
    "# Iterate through program types\n",
    "for program_type in os.listdir(base_directory):\n",
    "    program_type_directory = os.path.join(base_directory, program_type)\n",
    "    \n",
    "    # Check if it's a directory and not a file\n",
    "    if os.path.isdir(program_type_directory):\n",
    "        # Use the program type as the directory name\n",
    "        program_name = program_type\n",
    "        \n",
    "       # Iterate through text files and extract words for the current program type and program name\n",
    "        for root, _, files in os.walk(program_type_directory):\n",
    "            for file_name in files:\n",
    "                if file_name.endswith(\".txt\"):\n",
    "                    full_path = os.path.join(root, file_name)\n",
    "                    program_name = os.path.basename(root)  # Set program name as the immediate directory before the .txt file\n",
    "                    \n",
    "                    # Detect the character encoding of the file using chardet\n",
    "                    with open(full_path, 'rb') as file:\n",
    "                        result = chardet.detect(file.read())\n",
    "                        encoding = result['encoding']\n",
    "                    \n",
    "                    with open(full_path, 'r', encoding=encoding, errors='ignore') as file:\n",
    "                        lines = file.readlines()\n",
    "                    \n",
    "                    for line in lines:\n",
    "                        words = line.split()\n",
    "                        cleaned_words = [clean_word(word) for word in words]\n",
    "                        data.extend([(word, file_name, program_name, program_type) for word in cleaned_words])\n",
    "\n",
    "# Create a DataFrame from the data\n",
    "df_words = pd.DataFrame(data, columns=[\"word_raw\", \"file_name\", \"program_name\", \"program_type\"])\n",
    "\n",
    "# Display the DataFrame\n",
    "print(df_words.info())\n",
    "\n",
    "# Save the combined data to a single CSV file\n",
    "df_words.to_csv(r\"C:\\Users\\razza\\ConnTextUL\\data\\combined_programs.csv\", encoding='utf-8', index=False)"
   ]
  }
 ],
 "metadata": {
  "kernelspec": {
   "display_name": "Python 3 (ipykernel)",
   "language": "python",
   "name": "python3"
  },
  "language_info": {
   "codemirror_mode": {
    "name": "ipython",
    "version": 3
   },
   "file_extension": ".py",
   "mimetype": "text/x-python",
   "name": "python",
   "nbconvert_exporter": "python",
   "pygments_lexer": "ipython3",
   "version": "3.9.12"
  }
 },
 "nbformat": 4,
 "nbformat_minor": 5
}
