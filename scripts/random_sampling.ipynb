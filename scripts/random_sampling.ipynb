{
 "cells": [
  {
   "cell_type": "code",
   "execution_count": 2,
   "id": "1f94322b",
   "metadata": {},
   "outputs": [
    {
     "name": "stderr",
     "output_type": "stream",
     "text": [
      "[nltk_data] Downloading package cmudict to /home/mcb/nltk_data...\n",
      "[nltk_data]   Package cmudict is already up-to-date!\n"
     ]
    }
   ],
   "source": [
    "import os\n",
    "import pandas as pd\n",
    "import chardet\n",
    "import numpy as np\n",
    "import math\n",
    "import random\n",
    "import nltk\n",
    "nltk.download('cmudict')\n",
    "from datetime import datetime\n",
    "formatted_date=datetime.today().strftime(\"%m%d%y\")\n",
    "#base_directory = r\"C:\\Users\\razza\\ConnTextUL_data\\data\\fiction_counts.csv\"\n",
    "base_directory = '../data/fiction_counts.csv'\n",
    "data=pd.read_csv(base_directory)"
   ]
  },
  {
   "cell_type": "code",
   "execution_count": 7,
   "id": "59bc54a2",
   "metadata": {},
   "outputs": [],
   "source": [
    "cmu = nltk.corpus.cmudict.dict()"
   ]
  },
  {
   "cell_type": "markdown",
   "id": "4f303886",
   "metadata": {},
   "source": [
    "Adult words (sampled from COCA)"
   ]
  },
  {
   "cell_type": "code",
   "execution_count": 8,
   "id": "44fe96ab",
   "metadata": {},
   "outputs": [],
   "source": [
    "coca= data.copy()\n",
    "coca['word'] = coca['word'].str.lower()\n",
    "coca['word'] = coca['word'].str.replace(r'[^a-zA-Z\\s]', '', regex=True)\n",
    "coca_filtered = coca.dropna(subset=['word'])\n",
    "coca_filtered.reset_index(drop=True, inplace=True)\n",
    "pool = [word for word in coca_filtered.word.tolist() if word in cmu.keys()]"
   ]
  },
  {
   "cell_type": "code",
   "execution_count": 14,
   "id": "dc9b56b2",
   "metadata": {},
   "outputs": [],
   "source": [
    "#10140\n",
    "rows = 10140\n",
    "sample = random.choices(pool, k=rows)\n",
    "\n",
    "file_name='random_adult_'+str(rows)+'_'+formatted_date+'.csv'\n",
    "\n",
    "\n",
    "with open(file_name, 'w') as f:\n",
    "    for word in sample:\n",
    "        f.write('{}\\n'.format(word))\n",
    "f.close()"
   ]
  },
  {
   "cell_type": "markdown",
   "id": "473a6b44",
   "metadata": {},
   "source": [
    "Kidwords (randomly sampled from WCBC and TASA)\n"
   ]
  },
  {
   "cell_type": "code",
   "execution_count": 18,
   "id": "3d7a35b2",
   "metadata": {},
   "outputs": [],
   "source": [
    "PATH = \"probabilities.csv\"\n",
    "kidwords = pd.read_csv(PATH)\n"
   ]
  },
  {
   "cell_type": "code",
   "execution_count": 25,
   "id": "f139f2a5",
   "metadata": {},
   "outputs": [],
   "source": [
    "sample = random.choices(kidwords.unique_words.tolist(), k = rows)"
   ]
  },
  {
   "cell_type": "code",
   "execution_count": 27,
   "id": "83860edd",
   "metadata": {},
   "outputs": [],
   "source": [
    "file_name='random_kid_'+str(rows)+'_'+formatted_date+'.csv'\n",
    "\n",
    "with open(file_name, 'w') as f:\n",
    "    for word in sample:\n",
    "        f.write('{}\\n'.format(word))\n",
    "f.close()"
   ]
  },
  {
   "cell_type": "code",
   "execution_count": null,
   "id": "0d625c56",
   "metadata": {},
   "outputs": [],
   "source": []
  }
 ],
 "metadata": {
  "kernelspec": {
   "display_name": "Python 3 (ipykernel)",
   "language": "python",
   "name": "python3"
  },
  "language_info": {
   "codemirror_mode": {
    "name": "ipython",
    "version": 3
   },
   "file_extension": ".py",
   "mimetype": "text/x-python",
   "name": "python",
   "nbconvert_exporter": "python",
   "pygments_lexer": "ipython3",
   "version": "3.11.4"
  }
 },
 "nbformat": 4,
 "nbformat_minor": 5
}
