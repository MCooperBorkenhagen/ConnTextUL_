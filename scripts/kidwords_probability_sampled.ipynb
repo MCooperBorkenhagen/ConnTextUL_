{
 "cells": [
  {
   "cell_type": "code",
   "execution_count": 1,
   "id": "0f40d852",
   "metadata": {},
   "outputs": [
    {
     "name": "stderr",
     "output_type": "stream",
     "text": [
      "[nltk_data] Downloading package cmudict to /root/nltk_data...\n",
      "[nltk_data]   Unzipping corpora/cmudict.zip.\n"
     ]
    }
   ],
   "source": [
    "import os\n",
    "import pandas as pd\n",
    "import chardet\n",
    "import numpy as np\n",
    "import math\n",
    "import random\n",
    "import nltk\n",
    "nltk.download('cmudict')\n",
    "from datetime import datetime\n",
    "formatted_date=datetime.today().strftime(\"%m%d%y\")\n",
    "base_directory = \"probabilities.csv\"\n",
    "data=pd.read_csv(base_directory)"
   ]
  },
  {
   "cell_type": "code",
   "execution_count": 2,
   "id": "35a84a6e",
   "metadata": {},
   "outputs": [],
   "source": [
    "cmu_words = nltk.corpus.cmudict.dict()\n",
    "def is_in_cmu_dict(word):\n",
    "    return word.lower() in cmu_words\n",
    "\n",
    "# Function to generate word\n",
    "def generate_word(words,probs):\n",
    "    word=random.choices(words,weights=probs)\n",
    "    return str(word[0])\n",
    "def create_file(filename, rows , words,probab):\n",
    "    file_name=filename\n",
    "    rows=rows\n",
    "    words=words\n",
    "    probs=probab\n",
    "    scaling_factor= rows/len(words)\n",
    "    remainder = rows - math.floor(scaling_factor)\n",
    "    with open(file_name, 'w') as file:\n",
    "        for i in range(math.floor(scaling_factor)):\n",
    "            word = generate_word(words,probs)\n",
    "            while not is_in_cmu_dict(word):\n",
    "                word = generate_word(words,probs)\n",
    "            file.write((word) + '\\n')\n",
    "        for r in range(remainder):\n",
    "            word_r=generate_word(words,probs)\n",
    "            while not is_in_cmu_dict(word_r):\n",
    "                word_r = generate_word(words,probs)\n",
    "            file.write((word_r) + '\\n')"
   ]
  },
  {
   "cell_type": "code",
   "execution_count": 3,
   "id": "c00c96f3",
   "metadata": {},
   "outputs": [],
   "source": [
    "#10K\n",
    "rows=10651\n",
    "file_name='kidwords_'+str(rows)+'_'+formatted_date+'.csv'\n",
    "words=data['unique_words']\n",
    "probabilities=data['sampling_probability']\n",
    "create_file(file_name,rows,words,probabilities)"
   ]
  }
 ],
 "metadata": {
  "kernelspec": {
   "display_name": "Python 3 (ipykernel)",
   "language": "python",
   "name": "python3"
  },
  "language_info": {
   "codemirror_mode": {
    "name": "ipython",
    "version": 3
   },
   "file_extension": ".py",
   "mimetype": "text/x-python",
   "name": "python",
   "nbconvert_exporter": "python",
   "pygments_lexer": "ipython3",
   "version": "3.10.14"
  }
 },
 "nbformat": 4,
 "nbformat_minor": 5
}
